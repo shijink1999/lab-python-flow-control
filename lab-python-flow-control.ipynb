{
 "cells": [
  {
   "cell_type": "markdown",
   "id": "d3bfc191-8885-42ee-b0a0-bbab867c6f9f",
   "metadata": {
    "tags": []
   },
   "source": [
    "# Lab | Flow Control"
   ]
  },
  {
   "cell_type": "markdown",
   "id": "3851fcd1-cf98-4653-9c89-e003b7ec9400",
   "metadata": {},
   "source": [
    "## Exercise: Managing Customer Orders Optimized\n",
    "\n",
    "In the last lab, you were starting an online store that sells various products. To ensure smooth operations, you developed a program that manages customer orders and inventory.\n",
    "\n",
    "You did so without using flow control. Let's go a step further and improve this code.\n",
    "\n",
    "Follow the steps below to complete the exercise:\n",
    "\n",
    "1. Look at your code from the lab data structures, and improve repeated code with loops.\n",
    "\n",
    "2. Instead of asking the user to input the name of three products that a customer wants to order, do the following:\n",
    "    \n",
    "    a. Prompt the user to enter the name of a product that a customer wants to order.\n",
    "    \n",
    "    b. Add the product name to the \"customer_orders\" set.\n",
    "    \n",
    "    c. Ask the user if they want to add another product (yes/no).\n",
    "    \n",
    "    d. Continue the loop until the user does not want to add another product.\n",
    "\n",
    "3. Instead of updating the inventory by subtracting 1 from the quantity of each product, only do it for  the products that were ordered (those in \"customer_orders\")."
   ]
  },
  {
   "cell_type": "code",
   "execution_count": 3,
   "id": "92fe88a5-e8d3-48d0-8036-cc7c5e89640e",
   "metadata": {},
   "outputs": [
    {
     "name": "stdout",
     "output_type": "stream",
     "text": [
      "enter quantity for t-shirt:  10\n",
      "enter quantity for mug:  7\n",
      "enter quantity for hat:  8\n",
      "enter quantity for book:  5\n",
      "enter quantity for keychain:  8\n",
      "\n",
      "  Enter the name of a product that you want to order( or type 'done' to finish):  hat\n",
      "\n",
      "  Enter the name of a product that you want to order( or type 'done' to finish):  book\n",
      "\n",
      "  Enter the name of a product that you want to order( or type 'done' to finish):  done\n"
     ]
    },
    {
     "name": "stdout",
     "output_type": "stream",
     "text": [
      "\n",
      " Products ordered: {'hat', 'book'}\n",
      "\n",
      "Updated Inventory:\n",
      "t-shirt:10\n",
      "mug:7\n",
      "hat:7\n",
      "book:4\n",
      "keychain:8\n"
     ]
    }
   ],
   "source": [
    "products = [\"t-shirt\", \"mug\",\"hat\",\"book\",\"keychain\"]\n",
    "inventory = {}\n",
    "for product in products :\n",
    "    quantity = int(input(f\"enter quantity for {product}: \"))\n",
    "    inventory[product] = quantity\n",
    "\n",
    "customer_orders = set()\n",
    "\n",
    "while True:\n",
    "    order = input(\"\\n  Enter the name of a product that you want to order( or type 'done' to finish): \").strip().lower()\n",
    "    if order == \"done\":\n",
    "        break\n",
    "    if order in products:\n",
    "        customer_orders.add(order)\n",
    "    else:\n",
    "        print(\"Invalid product.please choose from :\", \", \".join(products))\n",
    "print(\"\\n Products ordered:\", customer_orders)\n",
    "for product in customer_orders:\n",
    "    if inventory[product]>0:\n",
    "        inventory[product]-= 1\n",
    "    else:\n",
    "        print(f\"Warning : {product} is out of stock!\")\n",
    "\n",
    "print(\"\\nUpdated Inventory:\")\n",
    "for product, quantity in inventory.items():\n",
    "    print(f\"{product}:{quantity}\")\n",
    "    "
   ]
  },
  {
   "cell_type": "code",
   "execution_count": null,
   "id": "b4a49097-7b91-4330-beb6-fcd90547b2a3",
   "metadata": {},
   "outputs": [],
   "source": []
  }
 ],
 "metadata": {
  "kernelspec": {
   "display_name": "Python 3 (ipykernel)",
   "language": "python",
   "name": "python3"
  },
  "language_info": {
   "codemirror_mode": {
    "name": "ipython",
    "version": 3
   },
   "file_extension": ".py",
   "mimetype": "text/x-python",
   "name": "python",
   "nbconvert_exporter": "python",
   "pygments_lexer": "ipython3",
   "version": "3.12.7"
  }
 },
 "nbformat": 4,
 "nbformat_minor": 5
}
